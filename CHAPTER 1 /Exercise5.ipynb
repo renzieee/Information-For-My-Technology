{
  "nbformat": 4,
  "nbformat_minor": 0,
  "metadata": {
    "colab": {
      "provenance": [],
      "authorship_tag": "ABX9TyM5f+gQT/WoqQsivBMAetRN",
      "include_colab_link": true
    },
    "kernelspec": {
      "name": "python3",
      "display_name": "Python 3"
    },
    "language_info": {
      "name": "python"
    }
  },
  "cells": [
    {
      "cell_type": "markdown",
      "metadata": {
        "id": "view-in-github",
        "colab_type": "text"
      },
      "source": [
        "<a href=\"https://colab.research.google.com/github/renzieee/Information-For-My-Technology/blob/main/CHAPTER%201%20/Exercise5.ipynb\" target=\"_parent\"><img src=\"https://colab.research.google.com/assets/colab-badge.svg\" alt=\"Open In Colab\"/></a>"
      ]
    },
    {
      "cell_type": "code",
      "execution_count": 15,
      "metadata": {
        "id": "P6vjaLY1czpW",
        "colab": {
          "base_uri": "https://localhost:8080/"
        },
        "outputId": "1538110d-3729-40aa-9915-ade471714609"
      },
      "outputs": [
        {
          "output_type": "stream",
          "name": "stdout",
          "text": [
            "Input the radius of the circle: 9\n",
            "The area of the circle with radius of the circle 9.0is:254.46878999999998\n"
          ]
        }
      ],
      "source": [
        "pi = 3.14159\n",
        "r = float(input (\"Input the radius of the circle: \"))\n",
        "print(\"The area of the circle with radius of the circle \" +str(r) + \"is:\" + str(pi*r**2))"
      ]
    },
    {
      "cell_type": "code",
      "source": [],
      "metadata": {
        "id": "Q_LinjireAhz"
      },
      "execution_count": null,
      "outputs": []
    }
  ]
}
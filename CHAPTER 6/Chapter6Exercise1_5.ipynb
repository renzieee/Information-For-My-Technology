{
  "cells": [
    {
      "cell_type": "markdown",
      "metadata": {
        "id": "view-in-github",
        "colab_type": "text"
      },
      "source": [
        "<a href=\"https://colab.research.google.com/github/renzieee/Information-For-My-Technology/blob/main/CHAPTER%206/Chapter6Exercise1_5.ipynb\" target=\"_parent\"><img src=\"https://colab.research.google.com/assets/colab-badge.svg\" alt=\"Open In Colab\"/></a>"
      ]
    },
    {
      "cell_type": "code",
      "execution_count": null,
      "metadata": {
        "colab": {
          "base_uri": "https://localhost:8080/"
        },
        "id": "nmgaKcHGhUcL",
        "outputId": "16a91f51-55e9-4568-c5a3-a3ced6d3244a"
      },
      "outputs": [
        {
          "name": "stdout",
          "output_type": "stream",
          "text": [
            "\n",
            "What topping would you like on your pizza?\n",
            "Enter 'quit' when you are finished: quit\n"
          ]
        }
      ],
      "source": [
        "#Exercise 1\n",
        "#loop that prompts the user to enter a series of pizza toppings until they enter a 'quit' value\n",
        "\n",
        "prompt= \"\\nWhat topping would you like on your pizza?\"\n",
        "prompt+= \"\\nEnter 'quit' when you are finished: \"\n",
        "\n",
        "while True:\n",
        "\n",
        "    topping = input(prompt)\n",
        "    if topping != 'quit':\n",
        "\n",
        "        print(\"  I'll add \" + topping + \" to your pizza.\")\n",
        "        \n",
        "    else:\n",
        "        break"
      ]
    },
    {
      "cell_type": "code",
      "execution_count": null,
      "metadata": {
        "colab": {
          "base_uri": "https://localhost:8080/"
        },
        "id": "_7qJlLdTiGmO",
        "outputId": "90a16c3a-d1c0-47e0-d99c-4fccc86eda4b"
      },
      "outputs": [
        {
          "name": "stdout",
          "output_type": "stream",
          "text": [
            "how old are you?\n",
            "enter 'quit'q when you are finishedquit\n"
          ]
        }
      ],
      "source": [
        "#Exercise 2\n",
        "#loop in which you ask users their age, and then tell them the cost of their movie ticket\n",
        "\n",
        "prompt= \"how old are you?\"\n",
        "prompt+= \"\\nenter 'quit'q when you are finished:\"\n",
        "\n",
        "while True:\n",
        "  age=input(prompt)\n",
        "  if age == 'quit':\n",
        "    break\n",
        "  age=int(age)\n",
        "\n",
        "  if age < 3: \n",
        "    print(\"you go inside for free\")\n",
        "  elif age <13:\n",
        "    print(\"your ticket is 10$\")\n",
        "  else:\n",
        "    print(\"your ticket is 15$\")"
      ]
    },
    {
      "cell_type": "code",
      "execution_count": null,
      "metadata": {
        "colab": {
          "background_save": true,
          "base_uri": "https://localhost:8080/"
        },
        "id": "06Akk5VDjV7-",
        "outputId": "3cef277b-f9d5-4fe9-8027-6f8a30a48d48"
      },
      "outputs": [
        {
          "name": "stdout",
          "output_type": "stream",
          "text": [
            "The double of 2 is 4\n"
          ]
        }
      ],
      "source": [
        "#Exercise 3\n",
        "#Write a loop that never ends, and run it. To end the loop, press ctrl-C or close the window displaying the output.\n",
        "\n",
        "while True:\n",
        "   num = int(input(\"Enter an integer: \"))\n",
        "   print(\"The double of\",num,\"is\",2 * num)"
      ]
    },
    {
      "cell_type": "code",
      "execution_count": null,
      "metadata": {
        "colab": {
          "base_uri": "https://localhost:8080/"
        },
        "id": "XNB4TAtojbb6",
        "outputId": "e26c6cb2-b1ff-4dac-e695-70c5fbc9ae5b"
      },
      "outputs": [
        {
          "name": "stdout",
          "output_type": "stream",
          "text": [
            "I'm working on your nutella sandwich sandwich.\n",
            "I'm working on your grilled cheese sandwich.\n",
            "I'm working on your grilled chicken sandwich.\n",
            "I'm working on your egg sandwich sandwich.\n",
            "\n",
            "\n",
            "I made a nutella sandwich sandwich.\n",
            "I made a grilled cheese sandwich.\n",
            "I made a grilled chicken sandwich.\n",
            "I made a egg sandwich sandwich.\n"
          ]
        }
      ],
      "source": [
        "#Exercise 4\n",
        "#Make a list called sandwich_orders and fill it with the names of various sandwiches.\n",
        "\n",
        "sandwich_orders = ['egg sandwich', 'grilled chicken', 'grilled cheese', 'nutella sandwich']\n",
        "finished_sandwiches= []\n",
        "\n",
        "while sandwich_orders:\n",
        "    current_sandwich = sandwich_orders.pop()\n",
        "    print(\"I'm working on your \" + current_sandwich + \" sandwich.\")\n",
        "    finished_sandwiches.append(current_sandwich)\n",
        "\n",
        "print(\"\\n\")\n",
        "for sandwich in finished_sandwiches:\n",
        "    print(\"I made a \" + sandwich + \" sandwich.\")"
      ]
    },
    {
      "cell_type": "code",
      "execution_count": null,
      "metadata": {
        "colab": {
          "base_uri": "https://localhost:8080/"
        },
        "id": "e6WMRyF2khdN",
        "outputId": "5fb89131-6b98-45a0-f93c-14c7da0585d9"
      },
      "outputs": [
        {
          "name": "stdout",
          "output_type": "stream",
          "text": [
            "I'm sorry, we're all out of pastrami today.\n",
            "\n",
            "\n",
            "I'm working on your nutella sandwich sandwich.\n",
            "I'm working on your grilled cheese sandwich.\n",
            "I'm working on your grilled chicken sandwich.\n",
            "I'm working on your egg sandwich sandwich.\n",
            "\n",
            "\n",
            "I made a nutella sandwich sandwich.\n",
            "I made a grilled cheese sandwich.\n",
            "I made a grilled chicken sandwich.\n",
            "I made a egg sandwich sandwich.\n",
            "I made a nutella sandwich sandwich.\n",
            "I made a grilled cheese sandwich.\n",
            "I made a grilled chicken sandwich.\n",
            "I made a egg sandwich sandwich.\n"
          ]
        }
      ],
      "source": [
        "#Exercise 5\n",
        "#use a while loop to remove all occurrences of 'pastrami' from sandwich_orders.\n",
        "\n",
        "sandwich_orders= ['egg sandwich', 'grilled chicken', 'grilled cheese', 'nutella sandwich']\n",
        "finished_sandiwches= []\n",
        "\n",
        "print(\"I'm sorry, we're all out of pastrami today.\")\n",
        "while 'pastrami' in sandwich_orders:\n",
        "    sandwich_orders.remove('pastrami')\n",
        "\n",
        "print(\"\\n\")\n",
        "while sandwich_orders:\n",
        "    current_sandwich = sandwich_orders.pop()\n",
        "    print(\"I'm working on your \" + current_sandwich + \" sandwich.\")\n",
        "    finished_sandwiches.append(current_sandwich)\n",
        "\n",
        "print(\"\\n\")\n",
        "for sandwich in finished_sandwiches:\n",
        "    print(\"I made a \" + sandwich + \" sandwich.\")"
      ]
    }
  ],
  "metadata": {
    "colab": {
      "collapsed_sections": [],
      "provenance": [],
      "authorship_tag": "ABX9TyNOke2arAJyqhur1qY7iJof",
      "include_colab_link": true
    },
    "kernelspec": {
      "display_name": "Python 3",
      "name": "python3"
    },
    "language_info": {
      "name": "python"
    }
  },
  "nbformat": 4,
  "nbformat_minor": 0
}
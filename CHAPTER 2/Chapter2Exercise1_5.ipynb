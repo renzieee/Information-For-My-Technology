{
  "nbformat": 4,
  "nbformat_minor": 0,
  "metadata": {
    "colab": {
      "provenance": [],
      "authorship_tag": "ABX9TyOUtSmTq6i5Uc36jtCMbvep",
      "include_colab_link": true
    },
    "kernelspec": {
      "name": "python3",
      "display_name": "Python 3"
    },
    "language_info": {
      "name": "python"
    }
  },
  "cells": [
    {
      "cell_type": "markdown",
      "metadata": {
        "id": "view-in-github",
        "colab_type": "text"
      },
      "source": [
        "<a href=\"https://colab.research.google.com/github/renzieee/Information-For-My-Technology/blob/main/CHAPTER%202/Chapter2Exercise1_5.ipynb\" target=\"_parent\"><img src=\"https://colab.research.google.com/assets/colab-badge.svg\" alt=\"Open In Colab\"/></a>"
      ]
    },
    {
      "cell_type": "code",
      "execution_count": 1,
      "metadata": {
        "id": "9XGFVmz5QDNi",
        "colab": {
          "base_uri": "https://localhost:8080/"
        },
        "outputId": "2beffd60-a0ab-4985-db6f-1532ae906f0d"
      },
      "outputs": [
        {
          "output_type": "stream",
          "name": "stdout",
          "text": [
            "how are you\n",
            "im fine thank you\n"
          ]
        }
      ],
      "source": [
        "#Exercise 1\n",
        "#Printing a message to a variable, and print that message. Then change the value of the variable to a new message, and print the new message.\n",
        "\n",
        "a= 'how are you'\n",
        "print(a)\n",
        "b= 'im fine thank you'\n",
        "print(b)"
      ]
    },
    {
      "cell_type": "code",
      "source": [
        "#Exercise 2\n",
        "#Printing Qoutes using famous person you admire. Print the quote and the name of its author.\n",
        "\n",
        "print(\"Henry Miller once said, \\\"Writing is its own reward.\\\"\")\n"
      ],
      "metadata": {
        "colab": {
          "base_uri": "https://localhost:8080/"
        },
        "id": "_SMU-OeZS3iH",
        "outputId": "20419037-6b76-47b0-d448-f7bdd4f4c93b"
      },
      "execution_count": 3,
      "outputs": [
        {
          "output_type": "stream",
          "name": "stdout",
          "text": [
            "Henry Miller once said, \"Writing is its own reward.\"\n"
          ]
        }
      ]
    },
    {
      "cell_type": "code",
      "source": [
        "#Exercise 3\n",
        "#Using each character combination, “\\t” and “\\n”\n",
        "\n",
        "handsome='  Renzie'\n",
        "new_handsome= handsome.lstrip()\n",
        "print(handsome)\n",
        "print(new_handsome)"
      ],
      "metadata": {
        "colab": {
          "base_uri": "https://localhost:8080/"
        },
        "id": "Ovokg-A1TKqq",
        "outputId": "839625c4-8a5d-460f-997f-19f1fdb857f1"
      },
      "execution_count": 4,
      "outputs": [
        {
          "output_type": "stream",
          "name": "stdout",
          "text": [
            "  Renzie\n",
            "Renzie\n"
          ]
        }
      ]
    },
    {
      "cell_type": "code",
      "source": [
        "#Exercise 4\n",
        "#Using a variable to represent favorite number\n",
        "\n",
        "favoritenumber= 2\n",
        "print(\"My favorite number is\", favoritenumber)"
      ],
      "metadata": {
        "colab": {
          "base_uri": "https://localhost:8080/"
        },
        "id": "CFAjepCHTT8F",
        "outputId": "bac260de-ba3f-4593-9845-1dc4e6780211"
      },
      "execution_count": 5,
      "outputs": [
        {
          "output_type": "stream",
          "name": "stdout",
          "text": [
            "My favorite number is 2\n"
          ]
        }
      ]
    },
    {
      "cell_type": "code",
      "source": [
        "#Exercise 5\n",
        "#Calculating how many USB sticks she can buy and how many pounds she will have left.\n",
        "\n",
        "money= 50\n",
        "usb_sticks= 6\n",
        "total= money//usb_sticks\n",
        "change= money-usb_sticks*total\n",
        "\n",
        "print(\"money:\", money)\n",
        "print(\"usb_sticks:\", usb_sticks)\n",
        "print(\"total:\", total)\n",
        "print(\"change:\", change)"
      ],
      "metadata": {
        "id": "9eHhKPOsTa6K"
      },
      "execution_count": null,
      "outputs": []
    }
  ]
}
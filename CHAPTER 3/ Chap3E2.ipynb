{
  "nbformat": 4,
  "nbformat_minor": 0,
  "metadata": {
    "colab": {
      "provenance": [],
      "collapsed_sections": [],
      "authorship_tag": "ABX9TyMDX8qrND+egBXt6tif5Iyq",
      "include_colab_link": true
    },
    "kernelspec": {
      "name": "python3",
      "display_name": "Python 3"
    },
    "language_info": {
      "name": "python"
    }
  },
  "cells": [
    {
      "cell_type": "markdown",
      "metadata": {
        "id": "view-in-github",
        "colab_type": "text"
      },
      "source": [
        "<a href=\"https://colab.research.google.com/github/renzieee/Information-For-My-Technology/blob/main/CHAPTER%203/%20Chap3E2.ipynb\" target=\"_parent\"><img src=\"https://colab.research.google.com/assets/colab-badge.svg\" alt=\"Open In Colab\"/></a>"
      ]
    },
    {
      "cell_type": "code",
      "execution_count": null,
      "metadata": {
        "colab": {
          "base_uri": "https://localhost:8080/"
        },
        "id": "S3g9G6tGoWcT",
        "outputId": "0b3da0ec-440b-4f50-fa59-e7b16228e635"
      },
      "outputs": [
        {
          "output_type": "stream",
          "name": "stdout",
          "text": [
            "Hello,Krunch!\n",
            "Hello,Gab!\n",
            "Hello,Pat!\n",
            "Hello,Yang!\n",
            "Hello,Ysa!\n",
            "Hello,Raf!\n",
            "Hello,Charls!\n"
          ]
        }
      ],
      "source": [
        "names = ['Krunch', 'Gab', 'Pat', 'Yang', 'Ysa', 'Raf', 'Charls']\n",
        "\n",
        "print(\"Hello,\" + names[0].title() + \"!\")\n",
        "print(\"Hello,\" + names[1].title() + \"!\")\n",
        "print(\"Hello,\" + names[2].title() + \"!\")\n",
        "print(\"Hello,\" + names[3].title() + \"!\")\n",
        "print(\"Hello,\" + names[4].title() + \"!\")\n",
        "print(\"Hello,\" + names[5].title() + \"!\")\n",
        "print(\"Hello,\" + names[6].title() + \"!\")"
      ]
    }
  ]
}
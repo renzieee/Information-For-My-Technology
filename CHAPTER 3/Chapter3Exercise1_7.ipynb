{
  "nbformat": 4,
  "nbformat_minor": 0,
  "metadata": {
    "colab": {
      "provenance": [],
      "authorship_tag": "ABX9TyN8gZo/Ej5n6zKZajSl/FH+",
      "include_colab_link": true
    },
    "kernelspec": {
      "name": "python3",
      "display_name": "Python 3"
    },
    "language_info": {
      "name": "python"
    }
  },
  "cells": [
    {
      "cell_type": "markdown",
      "metadata": {
        "id": "view-in-github",
        "colab_type": "text"
      },
      "source": [
        "<a href=\"https://colab.research.google.com/github/renzieee/Information-For-My-Technology/blob/main/CHAPTER%203/Chapter3Exercise1_7.ipynb\" target=\"_parent\"><img src=\"https://colab.research.google.com/assets/colab-badge.svg\" alt=\"Open In Colab\"/></a>"
      ]
    },
    {
      "cell_type": "code",
      "execution_count": 1,
      "metadata": {
        "colab": {
          "base_uri": "https://localhost:8080/"
        },
        "id": "Ol-2bAYKUI9q",
        "outputId": "b7b467c2-5280-4beb-db64-314e62a22eaf"
      },
      "outputs": [
        {
          "output_type": "stream",
          "name": "stdout",
          "text": [
            "Krunch\n",
            "Charls\n",
            "Gab\n",
            "Yang\n",
            "Pat\n",
            "Ysa\n",
            "Raf\n"
          ]
        }
      ],
      "source": [
        "#Exercise 1\n",
        "#Print each person’s name by accessing each element in the list, one at a time.\n",
        "\n",
        "friends = ['krunch', 'charls', 'gab', 'yang', 'pat', 'ysa', 'raf']\n",
        "print(friends[0].title())\n",
        "print(friends[1].title())\n",
        "print(friends[2].title())\n",
        "print(friends[3].title())\n",
        "print(friends[4].title())\n",
        "print(friends[5].title())\n",
        "print(friends[6].title())"
      ]
    },
    {
      "cell_type": "code",
      "source": [
        "#Exercise 2\n",
        "#Printing each person’s name, print a message to them\n",
        "\n",
        "names = ['Krunch', 'Gab', 'Pat', 'Yang', 'Ysa', 'Raf', 'Charls']\n",
        "\n",
        "print(\"Hello,\" + names[0].title() + \"!\")\n",
        "print(\"Hello,\" + names[1].title() + \"!\")\n",
        "print(\"Hello,\" + names[2].title() + \"!\")\n",
        "print(\"Hello,\" + names[3].title() + \"!\")\n",
        "print(\"Hello,\" + names[4].title() + \"!\")\n",
        "print(\"Hello,\" + names[5].title() + \"!\")\n",
        "print(\"Hello,\" + names[6].title() + \"!\")"
      ],
      "metadata": {
        "colab": {
          "base_uri": "https://localhost:8080/"
        },
        "id": "5HUYkM1MUS6e",
        "outputId": "4bfe96ac-96f4-4c6a-d644-24996db3c3f9"
      },
      "execution_count": 2,
      "outputs": [
        {
          "output_type": "stream",
          "name": "stdout",
          "text": [
            "Hello,Krunch!\n",
            "Hello,Gab!\n",
            "Hello,Pat!\n",
            "Hello,Yang!\n",
            "Hello,Ysa!\n",
            "Hello,Raf!\n",
            "Hello,Charls!\n"
          ]
        }
      ]
    },
    {
      "cell_type": "code",
      "source": [
        "#Exercise 3\n",
        "#Printing favorite mode of transportation\n",
        "\n",
        "transpo = ['car', 'boat', 'bus']\n",
        "print(\"I would like to own a Mercedes Benz \"+transpo[0].title()+ \".\")\n",
        "print(\"I would like to see an luxury \"+transpo[1].title()+ \".\")\n",
        "print(\"I would like to ride a School \"+transpo[2].title()+ \".\")"
      ],
      "metadata": {
        "id": "eOpRZq9DUk1J"
      },
      "execution_count": 3,
      "outputs": []
    },
    {
      "cell_type": "code",
      "source": [
        "#Exercise 4\n",
        "#Printing list to print a message to each person, invitingthem to dinner.\n",
        "\n",
        "guest= ['Krunch', 'Charls', 'Gab']\n",
        "print(\"Hey \" + guest[0]+\", Would you like to come at dinner this coming sunday?\")\n",
        "print(\"Hey \" + guest[1]+\", Would you like to come at dinner this coming sunday?\")\n",
        "print(\"Hey \" + guest[2]+\", Would you like to come at dinner this coming sunday?\")"
      ],
      "metadata": {
        "colab": {
          "base_uri": "https://localhost:8080/"
        },
        "id": "DmSnZYBUUplz",
        "outputId": "9492ca40-0395-47f1-c896-e96531c16a4f"
      },
      "execution_count": 4,
      "outputs": [
        {
          "output_type": "stream",
          "name": "stdout",
          "text": [
            "Hey Krunch, Would you like to play basketball this coming sunday?\n",
            "Hey Charls, Would you like to play baasketball this coming sunday?\n",
            "Hey Gab, Would you like to play basketball this coming sunday?\n"
          ]
        }
      ]
    },
    {
      "cell_type": "code",
      "source": [
        "#Exercise 5\n",
        "#Changing Guest List\n",
        "\n",
        "guest = ['Krunch', 'Charls', 'Gab']\n",
        "print(guest[0]+ \"\\tcan make it to the dinner\")\n",
        "print(guest[1]+ \"\\tcan't make it to the dinner\")\n",
        "print(guest[2]+ \"\\tcan make it to the dinner\")"
      ],
      "metadata": {
        "colab": {
          "base_uri": "https://localhost:8080/"
        },
        "id": "2fuICi77UxEQ",
        "outputId": "ccbee085-6b87-4df1-81dd-da3e6b568426"
      },
      "execution_count": 7,
      "outputs": [
        {
          "output_type": "stream",
          "name": "stdout",
          "text": [
            "Krunch\tcan make it to the dinner\n",
            "Charls\tcan't make it to the dinner\n",
            "Gab\tcan make it to the dinner\n"
          ]
        }
      ]
    },
    {
      "cell_type": "code",
      "source": [
        "#Exercise 6\n",
        "#Printing list to make sure you actually have an empty list at the end of your program.    \n",
        "\n",
        "guest = ['Krunch', 'Gab', 'Charls', 'Joe']\n",
        "print(\"Hi guys! sorry but I can only invite 2 people for the dinner.\")\n",
        "first_guest=guest.pop(0)\n",
        "print(guest)\n",
        "print('sorry', first_guest, \"I can't invite you for the dinner.\")\n",
        "second_guest=guest.pop(1)\n",
        "print(guest)\n",
        "print('sorry', second_guest, \"I can't invite you for the dinner.\")\n",
        "print('Hey Charls and Joe, you guys are invited on the dinner.')"
      ],
      "metadata": {
        "colab": {
          "base_uri": "https://localhost:8080/"
        },
        "id": "Uw6nKl4mVaP4",
        "outputId": "ddc52f27-b335-44c4-d5b0-9008090e0200"
      },
      "execution_count": 9,
      "outputs": [
        {
          "output_type": "stream",
          "name": "stdout",
          "text": [
            "Hi guys! sorry but I can only invite 2 people for the dinner.\n",
            "['Gab', 'Charls', 'Joe']\n",
            "sorry Krunch I can't invite you for the dinner.\n",
            "['Gab', 'Joe']\n",
            "sorry Charls I can't invite you for the dinner.\n",
            "Hey Charls and Joe, you guys are invited on the dinner.\n"
          ]
        }
      ]
    },
    {
      "cell_type": "code",
      "source": [
        "#Exercise 7\n",
        "#Places to visit\n",
        "\n",
        "places = ['Japan', 'Saudi', 'Spain', 'Germany']\n",
        "sorted(places)\n",
        "print(places)\n",
        "sorted(places,reverse=True)\n",
        "print(places)\n",
        "places.reverse()\n",
        "print(places)\n",
        "places.reverse()\n",
        "print(places)\n",
        "places.sort()\n",
        "print(places)\n",
        "places.sort(reverse=True)\n",
        "print(places)"
      ],
      "metadata": {
        "colab": {
          "base_uri": "https://localhost:8080/"
        },
        "id": "AJq1NfMUVpgA",
        "outputId": "d989b48d-b5df-4027-a529-db60eaecaaea"
      },
      "execution_count": 10,
      "outputs": [
        {
          "output_type": "stream",
          "name": "stdout",
          "text": [
            "['Japan', 'Saudi', 'Spain', 'Germany']\n",
            "['Japan', 'Saudi', 'Spain', 'Germany']\n",
            "['Germany', 'Spain', 'Saudi', 'Japan']\n",
            "['Japan', 'Saudi', 'Spain', 'Germany']\n",
            "['Germany', 'Japan', 'Saudi', 'Spain']\n",
            "['Spain', 'Saudi', 'Japan', 'Germany']\n"
          ]
        }
      ]
    }
  ]
}
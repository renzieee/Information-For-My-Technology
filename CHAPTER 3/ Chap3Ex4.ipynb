{
  "nbformat": 4,
  "nbformat_minor": 0,
  "metadata": {
    "colab": {
      "provenance": [],
      "collapsed_sections": [],
      "authorship_tag": "ABX9TyO4T1PYcGGpLhZPIjLI/rx1",
      "include_colab_link": true
    },
    "kernelspec": {
      "name": "python3",
      "display_name": "Python 3"
    },
    "language_info": {
      "name": "python"
    }
  },
  "cells": [
    {
      "cell_type": "markdown",
      "metadata": {
        "id": "view-in-github",
        "colab_type": "text"
      },
      "source": [
        "<a href=\"https://colab.research.google.com/github/renzieee/Information-For-My-Technology/blob/main/CHAPTER%203/%20Chap3Ex4.ipynb\" target=\"_parent\"><img src=\"https://colab.research.google.com/assets/colab-badge.svg\" alt=\"Open In Colab\"/></a>"
      ]
    },
    {
      "cell_type": "code",
      "execution_count": null,
      "metadata": {
        "colab": {
          "base_uri": "https://localhost:8080/"
        },
        "id": "noC4BIcwr5yE",
        "outputId": "ad80b3ad-1e76-449f-e58a-3712e40bc254"
      },
      "outputs": [
        {
          "output_type": "stream",
          "name": "stdout",
          "text": [
            "Hey Krunch, Would you like to come at dinner this coming sunday?\n",
            "Hey Charls, Would you like to come at dinner this coming sunday?\n",
            "Hey Gab, Would you like to come at dinner this coming sunday?\n"
          ]
        }
      ],
      "source": [
        "guest= ['Krunch', 'Charls', 'Gab']\n",
        "print(\"Hey \" + guest[0]+\", Would you like to play basketball this coming sunday?\")\n",
        "print(\"Hey \" + guest[1]+\", Would you like to play baasketball this coming sunday?\")\n",
        "print(\"Hey \" + guest[2]+\", Would you like to play basketball this coming sunday?\")"
      ]
    }
  ]
}
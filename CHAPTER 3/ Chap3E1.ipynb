{
  "nbformat": 4,
  "nbformat_minor": 0,
  "metadata": {
    "colab": {
      "provenance": [],
      "collapsed_sections": [],
      "authorship_tag": "ABX9TyNFzvQwA0ySQJiaSdCMfFPK",
      "include_colab_link": true
    },
    "kernelspec": {
      "name": "python3",
      "display_name": "Python 3"
    },
    "language_info": {
      "name": "python"
    }
  },
  "cells": [
    {
      "cell_type": "markdown",
      "metadata": {
        "id": "view-in-github",
        "colab_type": "text"
      },
      "source": [
        "<a href=\"https://colab.research.google.com/github/renzieee/Information-For-My-Technology/blob/main/CHAPTER%203/%20Chap3E1.ipynb\" target=\"_parent\"><img src=\"https://colab.research.google.com/assets/colab-badge.svg\" alt=\"Open In Colab\"/></a>"
      ]
    },
    {
      "cell_type": "code",
      "execution_count": null,
      "metadata": {
        "colab": {
          "base_uri": "https://localhost:8080/"
        },
        "id": "fW_6zCJ6nZFP",
        "outputId": "59f6011f-d600-474d-9967-1106dc7cc881"
      },
      "outputs": [
        {
          "output_type": "stream",
          "name": "stdout",
          "text": [
            "Krunch\n",
            "Charls\n",
            "Gab\n",
            "Yang\n",
            "Pat\n",
            "Ysa\n",
            "Raf\n"
          ]
        }
      ],
      "source": [
        "friends = ['krunch', 'charls', 'gab', 'yang', 'pat', 'ysa', 'raf']\n",
        "print(friends[0].title())\n",
        "print(friends[1].title())\n",
        "print(friends[2].title())\n",
        "print(friends[3].title())\n",
        "print(friends[4].title())\n",
        "print(friends[5].title())\n",
        "print(friends[6].title())"
      ]
    },
    {
      "cell_type": "code",
      "source": [],
      "metadata": {
        "id": "C1806ibyoO6r"
      },
      "execution_count": null,
      "outputs": []
    }
  ]
}
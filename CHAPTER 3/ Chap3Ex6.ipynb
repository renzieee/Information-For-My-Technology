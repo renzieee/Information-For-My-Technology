{
  "nbformat": 4,
  "nbformat_minor": 0,
  "metadata": {
    "colab": {
      "provenance": [],
      "collapsed_sections": [],
      "authorship_tag": "ABX9TyNDCB8bV8xJJOgYB/R0d28b",
      "include_colab_link": true
    },
    "kernelspec": {
      "name": "python3",
      "display_name": "Python 3"
    },
    "language_info": {
      "name": "python"
    }
  },
  "cells": [
    {
      "cell_type": "markdown",
      "metadata": {
        "id": "view-in-github",
        "colab_type": "text"
      },
      "source": [
        "<a href=\"https://colab.research.google.com/github/renzieee/Information-For-My-Technology/blob/main/CHAPTER%203/%20Chap3Ex6.ipynb\" target=\"_parent\"><img src=\"https://colab.research.google.com/assets/colab-badge.svg\" alt=\"Open In Colab\"/></a>"
      ]
    },
    {
      "cell_type": "code",
      "execution_count": null,
      "metadata": {
        "colab": {
          "base_uri": "https://localhost:8080/"
        },
        "id": "CsTR71wAtn_Y",
        "outputId": "3406201c-bb52-41b4-c3d1-c762b36ed5ea"
      },
      "outputs": [
        {
          "output_type": "stream",
          "name": "stdout",
          "text": [
            "Hi guys! sorry but I can only invite 2 people for the basketball game.\n",
            "['Gab', 'Charls', 'Joe']\n",
            "sorry Krunch I can't invite you for the basketball game.\n",
            "['Gab', 'Joe']\n",
            "sorry Charls I can't invite you for the basketball game.\n",
            "Hey Charls and Joe, you guys are invited on the basketball game.\n"
          ]
        }
      ],
      "source": [
        "guest = ['Krunch', 'Gab', 'Charls', 'Joe']\n",
        "print(\"Hi guys! sorry but I can only invite 2 people for the basketball game.\")\n",
        "first_guest=guest.pop(0)\n",
        "print(guest)\n",
        "print('sorry', first_guest, \"I can't invite you for the basketball game.\")\n",
        "second_guest=guest.pop(1)\n",
        "print(guest)\n",
        "print('sorry', second_guest, \"I can't invite you for the basketball game.\")\n",
        "print('Hey Charls and Joe, you guys are invited on the basketball game.')\n"
      ]
    }
  ]
}
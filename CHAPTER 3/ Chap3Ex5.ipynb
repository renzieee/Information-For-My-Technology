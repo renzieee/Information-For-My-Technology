{
  "nbformat": 4,
  "nbformat_minor": 0,
  "metadata": {
    "colab": {
      "provenance": [],
      "collapsed_sections": [],
      "authorship_tag": "ABX9TyOMtaH2TQ7YN27iNsUeM/12",
      "include_colab_link": true
    },
    "kernelspec": {
      "name": "python3",
      "display_name": "Python 3"
    },
    "language_info": {
      "name": "python"
    }
  },
  "cells": [
    {
      "cell_type": "markdown",
      "metadata": {
        "id": "view-in-github",
        "colab_type": "text"
      },
      "source": [
        "<a href=\"https://colab.research.google.com/github/renzieee/Information-For-My-Technology/blob/main/CHAPTER%203/%20Chap3Ex5.ipynb\" target=\"_parent\"><img src=\"https://colab.research.google.com/assets/colab-badge.svg\" alt=\"Open In Colab\"/></a>"
      ]
    },
    {
      "cell_type": "code",
      "execution_count": null,
      "metadata": {
        "colab": {
          "base_uri": "https://localhost:8080/"
        },
        "id": "Ru_V0S1tsya8",
        "outputId": "5c350c11-495f-4531-93fe-60aedf832806"
      },
      "outputs": [
        {
          "output_type": "stream",
          "name": "stdout",
          "text": [
            "Krunchcan make it to the basketball game\n",
            "Charlscan't make it to the basketball game\n",
            "Gabcan make it to the basketball game\n"
          ]
        }
      ],
      "source": [
        "guest = ['Krunch', 'Charls', 'Gab']\n",
        "print(guest[0]+ \"can make it to the basketball game\")\n",
        "print(guest[1]+ \"can't make it to the basketball game\")\n",
        "print(guest[2]+ \"can make it to the basketball game\")"
      ]
    }
  ]
}
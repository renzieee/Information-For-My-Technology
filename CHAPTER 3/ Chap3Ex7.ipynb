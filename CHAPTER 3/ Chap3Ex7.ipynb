{
  "nbformat": 4,
  "nbformat_minor": 0,
  "metadata": {
    "colab": {
      "provenance": [],
      "collapsed_sections": [],
      "authorship_tag": "ABX9TyMD0IFQ2Y23M2Uwn9H/5cM0",
      "include_colab_link": true
    },
    "kernelspec": {
      "name": "python3",
      "display_name": "Python 3"
    },
    "language_info": {
      "name": "python"
    }
  },
  "cells": [
    {
      "cell_type": "markdown",
      "metadata": {
        "id": "view-in-github",
        "colab_type": "text"
      },
      "source": [
        "<a href=\"https://colab.research.google.com/github/renzieee/Information-For-My-Technology/blob/main/CHAPTER%203/%20Chap3Ex7.ipynb\" target=\"_parent\"><img src=\"https://colab.research.google.com/assets/colab-badge.svg\" alt=\"Open In Colab\"/></a>"
      ]
    },
    {
      "cell_type": "code",
      "execution_count": null,
      "metadata": {
        "colab": {
          "base_uri": "https://localhost:8080/"
        },
        "id": "nFxu6dUJwEcS",
        "outputId": "0e9bb449-553c-48d8-eb7e-72d554d9eb7d"
      },
      "outputs": [
        {
          "output_type": "stream",
          "name": "stdout",
          "text": [
            "['Japan', 'Saudi', 'Spain', 'Germany']\n",
            "['Japan', 'Saudi', 'Spain', 'Germany']\n",
            "['Germany', 'Spain', 'Saudi', 'Japan']\n",
            "['Japan', 'Saudi', 'Spain', 'Germany']\n",
            "['Germany', 'Japan', 'Saudi', 'Spain']\n",
            "['Spain', 'Saudi', 'Japan', 'Germany']\n"
          ]
        }
      ],
      "source": [
        "places = ['Japan', 'Saudi', 'Spain', 'Germany']\n",
        "sorted(places)\n",
        "print(places)\n",
        "sorted(places,reverse=True)\n",
        "print(places)\n",
        "places.reverse()\n",
        "print(places)\n",
        "places.reverse()\n",
        "print(places)\n",
        "places.sort()\n",
        "print(places)\n",
        "places.sort(reverse=True)\n",
        "print(places)"
      ]
    }
  ]
}
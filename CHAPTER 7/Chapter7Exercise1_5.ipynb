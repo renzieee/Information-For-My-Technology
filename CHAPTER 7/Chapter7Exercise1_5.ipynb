{
  "nbformat": 4,
  "nbformat_minor": 0,
  "metadata": {
    "colab": {
      "provenance": [],
      "collapsed_sections": [],
      "authorship_tag": "ABX9TyN3VcPCdbJnPaQ9kXXzS4Gp",
      "include_colab_link": true
    },
    "kernelspec": {
      "name": "python3",
      "display_name": "Python 3"
    },
    "language_info": {
      "name": "python"
    }
  },
  "cells": [
    {
      "cell_type": "markdown",
      "metadata": {
        "id": "view-in-github",
        "colab_type": "text"
      },
      "source": [
        "<a href=\"https://colab.research.google.com/github/renzieee/Information-For-My-Technology/blob/main/CHAPTER%207/Chapter7Exercise1_5.ipynb\" target=\"_parent\"><img src=\"https://colab.research.google.com/assets/colab-badge.svg\" alt=\"Open In Colab\"/></a>"
      ]
    },
    {
      "cell_type": "code",
      "execution_count": null,
      "metadata": {
        "colab": {
          "base_uri": "https://localhost:8080/"
        },
        "id": "mgTFfuyOnpfH",
        "outputId": "b9b6197b-068c-4646-b8c2-6da2664d0a9c"
      },
      "outputs": [
        {
          "output_type": "stream",
          "name": "stdout",
          "text": [
            "Hello! My Name Is Renzie And I Love Learning This Chapter\n"
          ]
        }
      ],
      "source": [
        "#Exercise 1\n",
        "#function called display_message()\n",
        "\n",
        "def display_message(user):\n",
        "  print(f\"Hello! {user.title()}\")\n",
        "display_message(\"My name is Renzie and I love learning this chapter\")"
      ]
    },
    {
      "cell_type": "code",
      "source": [
        "#Exercise 2\n",
        "#function called favorite_book() that accepts one parameter, title\n",
        "\n",
        "def favorite_book(user):\n",
        "  print(f\"My Favorite book is, {user.title()}\")\n",
        "favorite_book(\"Harry Potter\")"
      ],
      "metadata": {
        "colab": {
          "base_uri": "https://localhost:8080/"
        },
        "id": "pyBt2sv8n6we",
        "outputId": "96b3643c-2bbd-4f47-90ce-3e9a43580b49"
      },
      "execution_count": null,
      "outputs": [
        {
          "output_type": "stream",
          "name": "stdout",
          "text": [
            "My Favorite book is, Harry Potter\n"
          ]
        }
      ]
    },
    {
      "cell_type": "code",
      "source": [
        "#Exercise 3\n",
        "#Write a function called make_shirt() that accepts a size and the text of a message that should be printed on the shirt.\n",
        "\n",
        "def make_shirt(size, message):\n",
        "    print(\"\\ni will be making a \" + size + \" t-shirt.\")\n",
        "    print('it will say, \"' + message + '\"')\n",
        "\n",
        "make_shirt('large', 'Hard Work Pays Off')\n",
        "make_shirt(message=\"Keep Calm and Eat Your Burger\", size='medium')"
      ],
      "metadata": {
        "colab": {
          "base_uri": "https://localhost:8080/"
        },
        "id": "5H8WIhqDoz-1",
        "outputId": "3768c005-b2d4-4776-c4e4-6f12a1aa474f"
      },
      "execution_count": null,
      "outputs": [
        {
          "output_type": "stream",
          "name": "stdout",
          "text": [
            "\n",
            "i will be making a large t-shirt.\n",
            "it will say, \"Hard Work Pays Off\"\n",
            "\n",
            "i will be making a medium t-shirt.\n",
            "it will say, \"Keep Calm and Eat Your Burger\"\n"
          ]
        }
      ]
    },
    {
      "cell_type": "code",
      "source": [
        "#Exercise 4\n",
        "#Modify the make_shirt() function so that shirts are large by default with a message that reads I love Python.\n",
        "\n",
        "def make_shirt(size='large', message='I love python!'):\n",
        "    print(\"\\nI'm going to make a \" + size + \" t-shirt.\")\n",
        "    print('It will say, \"' + message + '\"')\n",
        "\n",
        "make_shirt()\n",
        "make_shirt(size='medium')\n",
        "make_shirt('small', 'Programmers are loopy.')"
      ],
      "metadata": {
        "colab": {
          "base_uri": "https://localhost:8080/"
        },
        "id": "aeTFfzHWpV7y",
        "outputId": "e50c033b-2d2d-4f86-eb68-08988d9a3005"
      },
      "execution_count": null,
      "outputs": [
        {
          "output_type": "stream",
          "name": "stdout",
          "text": [
            "\n",
            "I'm going to make a large t-shirt.\n",
            "It will say, \"I love python!\"\n",
            "\n",
            "I'm going to make a medium t-shirt.\n",
            "It will say, \"I love python!\"\n",
            "\n",
            "I'm going to make a small t-shirt.\n",
            "It will say, \"Programmers are loopy.\"\n"
          ]
        }
      ]
    },
    {
      "cell_type": "code",
      "source": [
        "#Exercise 5\n",
        "#Write a function called describe_city() that accepts the name of a city and its country. \n",
        "\n",
        "def describe_city(city, country='France'):\n",
        "    msg = city.title() + \" is in \" + country.title() + \".\"\n",
        "    print(msg)\n",
        "\n",
        "describe_city('Paris')\n",
        "describe_city('Rome', 'Italy')\n",
        "describe_city('Marseille')\n"
      ],
      "metadata": {
        "colab": {
          "base_uri": "https://localhost:8080/"
        },
        "id": "JvqYMrmSqBKs",
        "outputId": "7262dc43-e59c-4457-9dbf-a27b28d5e25c"
      },
      "execution_count": 1,
      "outputs": [
        {
          "output_type": "stream",
          "name": "stdout",
          "text": [
            "Paris is in France.\n",
            "Rome is in Italy.\n",
            "Marseille is in France.\n"
          ]
        }
      ]
    },
    {
      "cell_type": "code",
      "source": [
        "#Extra Exercise\n",
        "#Printing def\n",
        "def greet_user(username):\n",
        "  print(f\"Hello, {username.title}\")\n",
        "  greet_user(\"Alpha\")"
      ],
      "metadata": {
        "id": "wl6bI8jkVeDY"
      },
      "execution_count": 2,
      "outputs": []
    }
  ]
}
{
  "nbformat": 4,
  "nbformat_minor": 0,
  "metadata": {
    "colab": {
      "provenance": [],
      "authorship_tag": "ABX9TyNnTKRRuQSnJRALCfXCn0s2",
      "include_colab_link": true
    },
    "kernelspec": {
      "name": "python3",
      "display_name": "Python 3"
    },
    "language_info": {
      "name": "python"
    }
  },
  "cells": [
    {
      "cell_type": "markdown",
      "metadata": {
        "id": "view-in-github",
        "colab_type": "text"
      },
      "source": [
        "<a href=\"https://colab.research.google.com/github/renzieee/Information-For-My-Technology/blob/main/CHAPTER%202%20/Chapter2E5.ipynb\" target=\"_parent\"><img src=\"https://colab.research.google.com/assets/colab-badge.svg\" alt=\"Open In Colab\"/></a>"
      ]
    },
    {
      "cell_type": "code",
      "execution_count": 14,
      "metadata": {
        "colab": {
          "base_uri": "https://localhost:8080/"
        },
        "id": "srWl6ADX_BV6",
        "outputId": "c4b29f9f-cfa2-4526-b8ff-98e87bb6ca30"
      },
      "outputs": [
        {
          "output_type": "stream",
          "name": "stdout",
          "text": [
            "money: 50\n",
            "usb_sticks: 6\n",
            "total: 8\n",
            "change: 2\n"
          ]
        }
      ],
      "source": [
        "money= 50\n",
        "usb_sticks= 6\n",
        "total= money//usb_sticks\n",
        "change= money-usb_sticks*total\n",
        "\n",
        "print(\"money:\", money)\n",
        "print(\"usb_sticks:\", usb_sticks)\n",
        "print(\"total:\", total)\n",
        "print(\"change:\", change)\n",
        "\n"
      ]
    },
    {
      "cell_type": "code",
      "source": [],
      "metadata": {
        "id": "oE9szaHk_zpo"
      },
      "execution_count": null,
      "outputs": []
    }
  ]
}
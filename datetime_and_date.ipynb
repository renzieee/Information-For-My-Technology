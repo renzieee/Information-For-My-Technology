{
  "nbformat": 4,
  "nbformat_minor": 0,
  "metadata": {
    "colab": {
      "provenance": [],
      "authorship_tag": "ABX9TyPIwRpbkUhlp73P+LGGxeoT",
      "include_colab_link": true
    },
    "kernelspec": {
      "name": "python3",
      "display_name": "Python 3"
    },
    "language_info": {
      "name": "python"
    }
  },
  "cells": [
    {
      "cell_type": "markdown",
      "metadata": {
        "id": "view-in-github",
        "colab_type": "text"
      },
      "source": [
        "<a href=\"https://colab.research.google.com/github/renzieee/Information-For-My-Technology/blob/main/datetime_and_date.ipynb\" target=\"_parent\"><img src=\"https://colab.research.google.com/assets/colab-badge.svg\" alt=\"Open In Colab\"/></a>"
      ]
    },
    {
      "cell_type": "code",
      "execution_count": 3,
      "metadata": {
        "colab": {
          "base_uri": "https://localhost:8080/"
        },
        "id": "qGSvFxGdr-Fp",
        "outputId": "54c7062f-a847-4846-b453-8c298f7044bb"
      },
      "outputs": [
        {
          "output_type": "stream",
          "name": "stdout",
          "text": [
            "There was a farmer who had a dog,\n",
            "And Bingo was his name-O.\n",
            "B-I-N-G-O!\n",
            "B-I-N-G-O!\n",
            "B-I-N-G-O!\n",
            "And Bingo was his name-O!\n"
          ]
        }
      ],
      "source": [
        "print(\"There was a farmer who had a dog,\")\n",
        "print(\"And Bingo was his name-O.\")\n",
        "print(\"B-I-N-G-O!\")\n",
        "print(\"B-I-N-G-O!\")\n",
        "print(\"B-I-N-G-O!\")\n",
        "print(\"And Bingo was his name-O!\")"
      ]
    },
    {
      "cell_type": "code",
      "source": [
        "import sys\n",
        "print(\"Python version\")\n",
        "print (sys.version)\n",
        "print(\"\\n\")\n",
        "print(\"Version.Info.\")\n",
        "print (sys.version_info)\n"
      ],
      "metadata": {
        "colab": {
          "base_uri": "https://localhost:8080/"
        },
        "id": "8hjTTs4mtVNF",
        "outputId": "a268713f-c129-4522-cd15-949f4cf8b988"
      },
      "execution_count": 10,
      "outputs": [
        {
          "output_type": "stream",
          "name": "stdout",
          "text": [
            "Python version\n",
            "3.7.14 (default, Sep  8 2022, 00:06:44) \n",
            "[GCC 7.5.0]\n",
            "\n",
            "\n",
            "Version.Info.\n",
            "sys.version_info(major=3, minor=7, micro=14, releaselevel='final', serial=0)\n"
          ]
        }
      ]
    },
    {
      "cell_type": "code",
      "source": [
        "from datetime import date\n",
        "\n",
        "today = date.today()\n",
        "print(\"Today's date:\", today)"
      ],
      "metadata": {
        "colab": {
          "base_uri": "https://localhost:8080/"
        },
        "id": "VBO6IzGx1FRa",
        "outputId": "0641bee6-44b3-445a-e27b-fd0f9db23911"
      },
      "execution_count": 11,
      "outputs": [
        {
          "output_type": "stream",
          "name": "stdout",
          "text": [
            "Today's date: 2022-09-29\n"
          ]
        }
      ]
    },
    {
      "cell_type": "code",
      "source": [
        "from datetime import date\n",
        "\n",
        "today = date.today()\n",
        "\n",
        "# dd/mm/YY\n",
        "d1 = today.strftime(\"%d/%m/%Y\")\n",
        "print(\"d1 =\", d1)\n",
        "\n",
        "#Textual month, day and year\n",
        "d2 = today.strftime(\"B% %d, %Y\")\n",
        "print(\"d2 =\", d2)\n",
        "\n",
        "# mm/dd/y\n",
        "d3 = today.strftime(\"%m/%d, %Y\")\n",
        "print(\"d3 =\", d3)\n",
        "\n",
        "#Month abbreviation, day and year\n",
        "d4 = today.strftime(\"%b-%d-%Y\")\n",
        "print(\"d4 =\", d4)"
      ],
      "metadata": {
        "colab": {
          "base_uri": "https://localhost:8080/"
        },
        "id": "mMCg14IY287v",
        "outputId": "a2bcf63f-adff-4424-c32b-8f75e7872b09"
      },
      "execution_count": 33,
      "outputs": [
        {
          "output_type": "stream",
          "name": "stdout",
          "text": [
            "d1 = 29/09/2022\n",
            "d2 = B% 29, 2022\n",
            "d3 = 09/29, 2022\n",
            "d4 = Sep-29-2022\n"
          ]
        }
      ]
    },
    {
      "cell_type": "code",
      "source": [
        "from datetime import datetime \n",
        "\n",
        "# datetime object containing current date and time\n",
        "now = datetime.now()\n",
        "\n",
        "print(\"now =\", now)\n",
        "\n",
        "#dd/mm/YY H:M:S\n",
        "dt_string = now.strftime(\"%d/%m/%Y %H:%M:%S\")\n",
        "print(\"date and time =\", dt_string)"
      ],
      "metadata": {
        "colab": {
          "base_uri": "https://localhost:8080/"
        },
        "id": "y_l4MoP_3wUL",
        "outputId": "19d5f675-243f-4a63-ec88-ceb8e11d54ee"
      },
      "execution_count": 29,
      "outputs": [
        {
          "output_type": "stream",
          "name": "stdout",
          "text": [
            "now = 2022-09-29 15:46:49.707698\n",
            "date and time = 29/09/2022 15:46:49\n"
          ]
        }
      ]
    }
  ]
}
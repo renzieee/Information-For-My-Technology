{
  "cells": [
    {
      "cell_type": "markdown",
      "metadata": {
        "id": "view-in-github",
        "colab_type": "text"
      },
      "source": [
        "<a href=\"https://colab.research.google.com/github/renzieee/Information-For-My-Technology/blob/main/CHAPTER%201/Chapter1Exercise1_5.ipynb\" target=\"_parent\"><img src=\"https://colab.research.google.com/assets/colab-badge.svg\" alt=\"Open In Colab\"/></a>"
      ]
    },
    {
      "cell_type": "code",
      "execution_count": 1,
      "metadata": {
        "colab": {
          "base_uri": "https://localhost:8080/"
        },
        "id": "LzKZYPElXN0X",
        "outputId": "02b14e9c-db2f-4dd9-c858-bf6e22a7597c"
      },
      "outputs": [
        {
          "output_type": "stream",
          "name": "stdout",
          "text": [
            "Twinkle, twinkle, little star, How I wonder what you are! Up above the world so high, Like a diamond in the sky. Twinkle, twinkle, little star, How I wonder what you are\n"
          ]
        }
      ],
      "source": [
        "#Exercise 1\n",
        "#Printing Strings, Printing the directions in a right format\n",
        "\n",
        "print('Twinkle, twinkle, little star, How I wonder what you are! Up above the world so high, Like a diamond in the sky. Twinkle, twinkle, little star, How I wonder what you are')"
      ]
    },
    {
      "cell_type": "code",
      "execution_count": null,
      "metadata": {
        "colab": {
          "base_uri": "https://localhost:8080/"
        },
        "id": "8gS60-ZEYDl-",
        "outputId": "66adc65f-28e7-4fe8-8e04-0092c276456c"
      },
      "outputs": [
        {
          "name": "stdout",
          "output_type": "stream",
          "text": [
            "Python version\n",
            "3.7.15 (default, Oct 12 2022, 19:14:55) \n",
            "[GCC 7.5.0]\n",
            "Version info.\n",
            "sys.version_info(major=3, minor=7, micro=15, releaselevel='final', serial=0)\n"
          ]
        }
      ],
      "source": [
        "#Exercise 2\n",
        "#Print the Version of Python\n",
        "\n",
        "import sys\n",
        "print(\"Python version\")\n",
        "print(sys.version)\n",
        "\n",
        "print(\"Version info.\")\n",
        "print (sys.version_info)"
      ]
    },
    {
      "cell_type": "code",
      "execution_count": null,
      "metadata": {
        "colab": {
          "base_uri": "https://localhost:8080/"
        },
        "id": "s0I32pVLRhbY",
        "outputId": "78afdf4e-d645-4b96-ce81-28533e3f1f1d"
      },
      "outputs": [
        {
          "name": "stdout",
          "output_type": "stream",
          "text": [
            "now = 2022-11-01 17:39:20.227479\n",
            "date and time = 01/11/2022 17:39:20\n"
          ]
        }
      ],
      "source": [
        "#Exercise 3\n",
        "#Print date and Time\n",
        "\n",
        "from datetime import datetime\n",
        "\n",
        "# datetime object containing current date and time \n",
        "now = datetime.now()\n",
        "\n",
        "print(\"now =\", now)\n",
        "\n",
        "# dd/mm/YY H:M:S\n",
        "dt_string = now.strftime(\"%d/%m/%Y %H:%M:%S\")\n",
        "print(\"date and time =\", dt_string)"
      ]
    },
    {
      "cell_type": "code",
      "execution_count": null,
      "metadata": {
        "colab": {
          "base_uri": "https://localhost:8080/"
        },
        "id": "RGx8RWydRrFB",
        "outputId": "fdad8c06-4176-4a1d-f6e2-308f4ad6ca76"
      },
      "outputs": [
        {
          "name": "stdout",
          "output_type": "stream",
          "text": [
            "Happy Birthday Sir\n"
          ]
        }
      ],
      "source": [
        "#Exercise 4\n",
        "#Printing Strings Concatination\n",
        "\n",
        "a, b, c,= (\"Happy\"), (\"Birthday\"), (\"Sir\")\n",
        "print(a,b,c)"
      ]
    },
    {
      "cell_type": "code",
      "execution_count": null,
      "metadata": {
        "id": "C6FxYt4-RzGy"
      },
      "outputs": [],
      "source": [
        "#Exercise 5\n",
        "#Printing Compute area of Circle\n",
        "\n",
        "pi = 3.14159\n",
        "r = float(input (\"Input the radius of the circle: \"))\n",
        "print(\"The area of the circle with radius of the circle \" +str(r) + \"is:\" + str(pi*r**2))"
      ]
    },
    {
      "cell_type": "code",
      "source": [
        "#Extra Example\n",
        "#varaiable means\n",
        "sentence='Today is 6th October, 2022, Thursday'\n",
        "sentence1='Rafael is late in the class'\n",
        "sentence_1='Rafael is late in the class'\n",
        "Sentnce1='Rafael s late in the class'\n",
        "Sentence_1='Rafael is late in the class'\n",
        "SENTENCE1='Rafael is late in the class'\n",
        "SEnTEnCE1='Rafael is late in the class'\n",
        "SENTENCE_1='Rafael is late in the class'\n",
        "SEnTEnCE_1='Rafael is late in the class'\n",
        "_sentence='Rafael is late in the class'\n",
        "yes_sir='Rafael is late in the class'\n",
        "Yes_Sir='Rafael is late in the class'\n",
        "\n",
        "print(sentence, yes_sir)"
      ],
      "metadata": {
        "id": "xoiUauwlPCWr"
      },
      "execution_count": null,
      "outputs": []
    }
  ],
  "metadata": {
    "colab": {
      "collapsed_sections": [],
      "provenance": [],
      "authorship_tag": "ABX9TyOb502L/GOpYmS8Kuw7L9k+",
      "include_colab_link": true
    },
    "kernelspec": {
      "display_name": "Python 3",
      "name": "python3"
    },
    "language_info": {
      "name": "python"
    }
  },
  "nbformat": 4,
  "nbformat_minor": 0
}
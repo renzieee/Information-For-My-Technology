{
  "nbformat": 4,
  "nbformat_minor": 0,
  "metadata": {
    "colab": {
      "provenance": [],
      "collapsed_sections": [],
      "authorship_tag": "ABX9TyN6vI+mdvdOwrzPjjZE0PGZ",
      "include_colab_link": true
    },
    "kernelspec": {
      "name": "python3",
      "display_name": "Python 3"
    },
    "language_info": {
      "name": "python"
    }
  },
  "cells": [
    {
      "cell_type": "markdown",
      "metadata": {
        "id": "view-in-github",
        "colab_type": "text"
      },
      "source": [
        "<a href=\"https://colab.research.google.com/github/renzieee/Information-For-My-Technology/blob/main/CHAPTER%203%20/%20Chap3E3.ipynb\" target=\"_parent\"><img src=\"https://colab.research.google.com/assets/colab-badge.svg\" alt=\"Open In Colab\"/></a>"
      ]
    },
    {
      "cell_type": "code",
      "execution_count": null,
      "metadata": {
        "colab": {
          "base_uri": "https://localhost:8080/"
        },
        "id": "_-WmDiwipBnj",
        "outputId": "938e24b8-2bc1-47ce-86e3-5fd7fb423633"
      },
      "outputs": [
        {
          "output_type": "stream",
          "name": "stdout",
          "text": [
            "I would like to own a Mercedes Benz Car.\n",
            "I would like to see an luxury Boat.\n",
            "I would like to ride a School Bus.\n"
          ]
        }
      ],
      "source": [
        "transpo = ['car', 'boat', 'bus']\n",
        "print(\"I would like to own a Mercedes Benz \"+transpo[0].title()+ \".\")\n",
        "print(\"I would like to see an luxury \"+transpo[1].title()+ \".\")\n",
        "print(\"I would like to ride a School \"+transpo[2].title()+ \".\")"
      ]
    }
  ]
}
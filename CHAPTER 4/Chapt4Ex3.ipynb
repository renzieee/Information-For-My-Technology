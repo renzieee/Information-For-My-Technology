{
  "nbformat": 4,
  "nbformat_minor": 0,
  "metadata": {
    "colab": {
      "provenance": [],
      "collapsed_sections": [],
      "authorship_tag": "ABX9TyP2uCztU4CQ0xx99r8dSiB2",
      "include_colab_link": true
    },
    "kernelspec": {
      "name": "python3",
      "display_name": "Python 3"
    },
    "language_info": {
      "name": "python"
    }
  },
  "cells": [
    {
      "cell_type": "markdown",
      "metadata": {
        "id": "view-in-github",
        "colab_type": "text"
      },
      "source": [
        "<a href=\"https://colab.research.google.com/github/renzieee/Information-For-My-Technology/blob/main/CHAPTER%204/Chapt4Ex3.ipynb\" target=\"_parent\"><img src=\"https://colab.research.google.com/assets/colab-badge.svg\" alt=\"Open In Colab\"/></a>"
      ]
    },
    {
      "cell_type": "code",
      "execution_count": null,
      "metadata": {
        "id": "nCRf_vemT6Vo",
        "colab": {
          "base_uri": "https://localhost:8080/"
        },
        "outputId": "0b4934c3-d367-4276-ad53-3727254293e2"
      },
      "outputs": [
        {
          "output_type": "stream",
          "name": "stdout",
          "text": [
            "which alien color did you used to shoot the aliens?red\n",
            "you just earned 15 points\n"
          ]
        }
      ],
      "source": [
        "#earning points for shotting aliens\n",
        "alien_color= str(input(\"which alien color did you used to shoot the aliens?\"))\n",
        "\n",
        "if alien_color == 'green':\n",
        "  print('you just earned 5 points')\n",
        "\n",
        "elif alien_color == 'yellow':\n",
        "  print('you just earned 10 points')\n",
        "\n",
        "elif alien_color == 'red':\n",
        "  print('you just earned 15 points')\n",
        "\n",
        "else:\n",
        "  print('you earned nothing')"
      ]
    }
  ]
}
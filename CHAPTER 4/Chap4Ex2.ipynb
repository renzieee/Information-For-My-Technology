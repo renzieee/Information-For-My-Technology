{
  "nbformat": 4,
  "nbformat_minor": 0,
  "metadata": {
    "colab": {
      "provenance": [],
      "collapsed_sections": [],
      "authorship_tag": "ABX9TyNNCoXG+3yLpkdLs8FPP2B1",
      "include_colab_link": true
    },
    "kernelspec": {
      "name": "python3",
      "display_name": "Python 3"
    },
    "language_info": {
      "name": "python"
    }
  },
  "cells": [
    {
      "cell_type": "markdown",
      "metadata": {
        "id": "view-in-github",
        "colab_type": "text"
      },
      "source": [
        "<a href=\"https://colab.research.google.com/github/renzieee/Information-For-My-Technology/blob/main/CHAPTER%204/Chap4Ex2.ipynb\" target=\"_parent\"><img src=\"https://colab.research.google.com/assets/colab-badge.svg\" alt=\"Open In Colab\"/></a>"
      ]
    },
    {
      "cell_type": "code",
      "execution_count": null,
      "metadata": {
        "colab": {
          "base_uri": "https://localhost:8080/"
        },
        "id": "nWY25rcAW4m8",
        "outputId": "32972eb9-90c5-485e-aad4-c746a182eb77"
      },
      "outputs": [
        {
          "output_type": "stream",
          "name": "stdout",
          "text": [
            "what alien color did you shoot?pink\n",
            "You just esrned 10 pints\n"
          ]
        }
      ],
      "source": [
        "x = str(input('what alien color did you shoot?'))\n",
        "\n",
        "if x == 'green':\n",
        "   print('You just earned 5 points')\n",
        "\n",
        "else:\n",
        "   print('You just esrned 10 pints')"
      ]
    },
    {
      "cell_type": "code",
      "source": [],
      "metadata": {
        "id": "C0u8ejloZgxn"
      },
      "execution_count": null,
      "outputs": []
    }
  ]
}
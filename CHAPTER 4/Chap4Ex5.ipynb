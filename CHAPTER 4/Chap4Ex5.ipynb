{
  "nbformat": 4,
  "nbformat_minor": 0,
  "metadata": {
    "colab": {
      "provenance": [],
      "collapsed_sections": [],
      "authorship_tag": "ABX9TyPxYXrEF/iBCLnfjyo55Dqy",
      "include_colab_link": true
    },
    "kernelspec": {
      "name": "python3",
      "display_name": "Python 3"
    },
    "language_info": {
      "name": "python"
    }
  },
  "cells": [
    {
      "cell_type": "markdown",
      "metadata": {
        "id": "view-in-github",
        "colab_type": "text"
      },
      "source": [
        "<a href=\"https://colab.research.google.com/github/renzieee/Information-For-My-Technology/blob/main/CHAPTER%204/Chap4Ex5.ipynb\" target=\"_parent\"><img src=\"https://colab.research.google.com/assets/colab-badge.svg\" alt=\"Open In Colab\"/></a>"
      ]
    },
    {
      "cell_type": "code",
      "execution_count": null,
      "metadata": {
        "id": "RvMheokgi4k2",
        "colab": {
          "base_uri": "https://localhost:8080/"
        },
        "outputId": "7c0a4466-1273-4020-a022-2f9d256d95aa"
      },
      "outputs": [
        {
          "output_type": "stream",
          "name": "stdout",
          "text": [
            "Melon is my favorite fruit!\n",
            "Apple is my favorite fruit!\n",
            "Mango is my favorite fruit!\n"
          ]
        }
      ],
      "source": [
        "#Favorite fruits\n",
        "a= 'Melon'\n",
        "b= 'Apple'\n",
        "c= 'Mango'\n",
        "d= 'Kiwi'\n",
        "favorite_fruits= {'Melon', 'Apple', 'Mango'}\n",
        "\n",
        "if a in favorite_fruits:\n",
        "  print(a.title(),'is my favorite fruit!')\n",
        "if b in favorite_fruits:\n",
        "  print(b.title(),'is my favorite fruit!')\n",
        "if c in favorite_fruits:\n",
        "  print(c.title(),'is my favorite fruit!')\n",
        "if d in favorite_fruits:\n",
        "  print(d.title(),'is my favorite fruit!')\n",
        "\n",
        "\n",
        "\n"
      ]
    }
  ]
}
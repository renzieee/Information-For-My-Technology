{
  "nbformat": 4,
  "nbformat_minor": 0,
  "metadata": {
    "colab": {
      "provenance": [],
      "collapsed_sections": [],
      "authorship_tag": "ABX9TyNCfmPOUIFwIlg5hCzSX8fn",
      "include_colab_link": true
    },
    "kernelspec": {
      "name": "python3",
      "display_name": "Python 3"
    },
    "language_info": {
      "name": "python"
    }
  },
  "cells": [
    {
      "cell_type": "markdown",
      "metadata": {
        "id": "view-in-github",
        "colab_type": "text"
      },
      "source": [
        "<a href=\"https://colab.research.google.com/github/renzieee/Information-For-My-Technology/blob/main/CHAPTER%204/Chapter4Exercise1_5.ipynb\" target=\"_parent\"><img src=\"https://colab.research.google.com/assets/colab-badge.svg\" alt=\"Open In Colab\"/></a>"
      ]
    },
    {
      "cell_type": "code",
      "execution_count": 1,
      "metadata": {
        "colab": {
          "base_uri": "https://localhost:8080/"
        },
        "id": "a83hRAJNWQee",
        "outputId": "919df2f0-a9ee-4e81-e338-0c92aa2b7ed3"
      },
      "outputs": [
        {
          "output_type": "stream",
          "name": "stdout",
          "text": [
            "You just earned 5 points\n"
          ]
        }
      ],
      "source": [
        "#Exercise 1\n",
        "#Creationg a variable called alien_color and assign it a value of 'green', 'yellow', or 'red'.\n",
        "#an alien was just shot down in a game\n",
        "\n",
        "alien_color = 'green'\n",
        "if alien_color == 'green':\n",
        "    print('You just earned 5 points')\n",
        "\n",
        "alien_color = 'yellow'\n",
        "\n",
        "if alien_color == 'green':\n",
        "  print('You just earned 5 points')\n",
        "\n",
        "alien_color = 'red'\n",
        "\n",
        "if alien_color == 'green':\n",
        "  print('You just earned 5 points')\n",
        "\n"
      ]
    },
    {
      "cell_type": "code",
      "source": [
        "#Exercise 2\n",
        "#version of this program that runs the if block and another that runs the else block.\n",
        "\n",
        "x = str(input('what alien color did you shoot?'))\n",
        "\n",
        "if x == 'green':\n",
        "   print('You just earned 5 points')\n",
        "\n",
        "else:\n",
        "   print('You just esrned 10 pints')"
      ],
      "metadata": {
        "colab": {
          "base_uri": "https://localhost:8080/"
        },
        "id": "nN-s8R0bWn0Q",
        "outputId": "dbf875a0-ff51-44c0-ad33-3fbf085d38d7"
      },
      "execution_count": 2,
      "outputs": [
        {
          "output_type": "stream",
          "name": "stdout",
          "text": [
            "what alien color did you shoot?green\n",
            "You just earned 5 points\n"
          ]
        }
      ]
    },
    {
      "cell_type": "code",
      "source": [
        "#Exercise 3\n",
        "#earning points for shotting aliens\n",
        "\n",
        "alien_color= str(input(\"which alien color did you used to shoot the aliens?\"))\n",
        "\n",
        "if alien_color == 'green':\n",
        "  print('you just earned 5 points')\n",
        "\n",
        "elif alien_color == 'yellow':\n",
        "  print('you just earned 10 points')\n",
        "\n",
        "elif alien_color == 'red':\n",
        "  print('you just earned 15 points')\n",
        "\n",
        "else:\n",
        "  print('you earned nothing')"
      ],
      "metadata": {
        "colab": {
          "base_uri": "https://localhost:8080/"
        },
        "id": "0_pGC18pWvGQ",
        "outputId": "067cfdf2-de54-4d7a-ba02-6282033ccc6c"
      },
      "execution_count": 4,
      "outputs": [
        {
          "output_type": "stream",
          "name": "stdout",
          "text": [
            "which alien color did you used to shoot the aliens?red\n",
            "you just earned 15 points\n"
          ]
        }
      ]
    },
    {
      "cell_type": "code",
      "source": [
        "#Exercise 4\n",
        "#stages of life\n",
        "\n",
        "age= 18\n",
        "if age <2:\n",
        "  print(\"you're a baby\")\n",
        "elif age <4:\n",
        "  print(\"you're a toddler\")\n",
        "elif age <13:\n",
        "  print(\"you're a kid\")\n",
        "elif age <20:\n",
        "  print(\"you're a teenager\")\n",
        "elif age <65:\n",
        "  print(\"you're a adult\")\n",
        "else:\n",
        "  print(\"you're and elder\")"
      ],
      "metadata": {
        "colab": {
          "base_uri": "https://localhost:8080/"
        },
        "id": "c5PrDmqXXWAg",
        "outputId": "b434e783-3ba0-4514-c06c-f6cc2dc4cb43"
      },
      "execution_count": 5,
      "outputs": [
        {
          "output_type": "stream",
          "name": "stdout",
          "text": [
            "you're a teenager\n"
          ]
        }
      ]
    },
    {
      "cell_type": "code",
      "source": [
        "#Exercise 5\n",
        "#Favorite fruits\n",
        "\n",
        "a= 'Melon'\n",
        "b= 'Apple'\n",
        "c= 'Mango'\n",
        "d= 'Kiwi'\n",
        "favorite_fruits= {'Melon', 'Apple', 'Mango'}\n",
        "\n",
        "if a in favorite_fruits:\n",
        "  print(a.title(),'is my favorite fruit!')\n",
        "if b in favorite_fruits:\n",
        "  print(b.title(),'is my favorite fruit!')\n",
        "if c in favorite_fruits:\n",
        "  print(c.title(),'is my favorite fruit!')\n",
        "if d in favorite_fruits:\n",
        "  print(d.title(),'is my favorite fruit!')\n"
      ],
      "metadata": {
        "colab": {
          "base_uri": "https://localhost:8080/"
        },
        "id": "kyFqTSqGXZz-",
        "outputId": "e86e8bc5-e4ea-4bd9-d145-e8394ed9e8ac"
      },
      "execution_count": 7,
      "outputs": [
        {
          "output_type": "stream",
          "name": "stdout",
          "text": [
            "Melon is my favorite fruit!\n",
            "Apple is my favorite fruit!\n",
            "Mango is my favorite fruit!\n"
          ]
        }
      ]
    }
  ]
}
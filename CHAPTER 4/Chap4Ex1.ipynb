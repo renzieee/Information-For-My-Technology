{
  "nbformat": 4,
  "nbformat_minor": 0,
  "metadata": {
    "colab": {
      "provenance": [],
      "collapsed_sections": [],
      "authorship_tag": "ABX9TyNiRIL7IJ9+AHHPGC93n60w",
      "include_colab_link": true
    },
    "kernelspec": {
      "name": "python3",
      "display_name": "Python 3"
    },
    "language_info": {
      "name": "python"
    }
  },
  "cells": [
    {
      "cell_type": "markdown",
      "metadata": {
        "id": "view-in-github",
        "colab_type": "text"
      },
      "source": [
        "<a href=\"https://colab.research.google.com/github/renzieee/Information-For-My-Technology/blob/main/CHAPTER%204/Chap4Ex1.ipynb\" target=\"_parent\"><img src=\"https://colab.research.google.com/assets/colab-badge.svg\" alt=\"Open In Colab\"/></a>"
      ]
    },
    {
      "cell_type": "code",
      "execution_count": null,
      "metadata": {
        "id": "VFW-mElnV9QJ",
        "colab": {
          "base_uri": "https://localhost:8080/"
        },
        "outputId": "467eaf1f-1094-4adb-e714-7962b9ad75c8"
      },
      "outputs": [
        {
          "output_type": "stream",
          "name": "stdout",
          "text": [
            "You just earned 5 points\n"
          ]
        }
      ],
      "source": [
        "#an alien was just shot down in a game\n",
        "alien_color = 'green'\n",
        "if alien_color == 'green':\n",
        "    print('You just earned 5 points')\n",
        "\n",
        "alien_color = 'yellow'\n",
        "\n",
        "if alien_color == 'green':\n",
        "  print('You just earned 5 points')\n",
        "\n",
        "alien_color = 'red'\n",
        "\n",
        "if alien_color == 'green':\n",
        "  print('You just earned 5 points')"
      ]
    }
  ]
}
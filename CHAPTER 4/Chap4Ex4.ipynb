{
  "nbformat": 4,
  "nbformat_minor": 0,
  "metadata": {
    "colab": {
      "provenance": [],
      "collapsed_sections": [],
      "authorship_tag": "ABX9TyMHPIpIcnWEG8Sy/0QH7uJ4",
      "include_colab_link": true
    },
    "kernelspec": {
      "name": "python3",
      "display_name": "Python 3"
    },
    "language_info": {
      "name": "python"
    }
  },
  "cells": [
    {
      "cell_type": "markdown",
      "metadata": {
        "id": "view-in-github",
        "colab_type": "text"
      },
      "source": [
        "<a href=\"https://colab.research.google.com/github/renzieee/Information-For-My-Technology/blob/main/CHAPTER%204/Chap4Ex4.ipynb\" target=\"_parent\"><img src=\"https://colab.research.google.com/assets/colab-badge.svg\" alt=\"Open In Colab\"/></a>"
      ]
    },
    {
      "cell_type": "code",
      "execution_count": null,
      "metadata": {
        "id": "aNDr1jm4gmaI",
        "colab": {
          "base_uri": "https://localhost:8080/"
        },
        "outputId": "36e72e6c-d095-4600-b33c-06700a967603"
      },
      "outputs": [
        {
          "output_type": "stream",
          "name": "stdout",
          "text": [
            "you're a teenager\n"
          ]
        }
      ],
      "source": [
        "#stages of life\n",
        "age= 18\n",
        "if age <2:\n",
        "  print(\"you're a baby\")\n",
        "elif age <4:\n",
        "  print(\"you're a toddler\")\n",
        "elif age <13:\n",
        "  print(\"you're a kid\")\n",
        "elif age <20:\n",
        "  print(\"you're a teenager\")\n",
        "elif age <65:\n",
        "  print(\"you're a adult\")\n",
        "else:\n",
        "  print(\"you're and elder\")"
      ]
    },
    {
      "cell_type": "code",
      "source": [],
      "metadata": {
        "id": "Jd3hSJPokATb"
      },
      "execution_count": null,
      "outputs": []
    }
  ]
}
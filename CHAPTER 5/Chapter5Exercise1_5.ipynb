{
  "nbformat": 4,
  "nbformat_minor": 0,
  "metadata": {
    "colab": {
      "provenance": [],
      "authorship_tag": "ABX9TyO5/UNYS1u6VN1uyTXfz+ed",
      "include_colab_link": true
    },
    "kernelspec": {
      "name": "python3",
      "display_name": "Python 3"
    },
    "language_info": {
      "name": "python"
    }
  },
  "cells": [
    {
      "cell_type": "markdown",
      "metadata": {
        "id": "view-in-github",
        "colab_type": "text"
      },
      "source": [
        "<a href=\"https://colab.research.google.com/github/renzieee/Information-For-My-Technology/blob/main/CHAPTER%205/Chapter5Exercise1_5.ipynb\" target=\"_parent\"><img src=\"https://colab.research.google.com/assets/colab-badge.svg\" alt=\"Open In Colab\"/></a>"
      ]
    },
    {
      "cell_type": "code",
      "execution_count": 4,
      "metadata": {
        "colab": {
          "base_uri": "https://localhost:8080/"
        },
        "id": "e_-ZQ5O3Zm_3",
        "outputId": "ac93d74a-ea75-4010-c821-e0c1e5c08006"
      },
      "outputs": [
        {
          "output_type": "stream",
          "name": "stdout",
          "text": [
            "Gabby\n",
            "Legaspi\n",
            "19\n",
            "Dubai\n"
          ]
        }
      ],
      "source": [
        "#Exercise 1\n",
        "#Printing each piece of information stored in your dictionary.\n",
        "\n",
        "person= {'first_name': 'Gabby', 'last_name': 'Legaspi', 'Age': '19', 'City': 'Dubai'}\n",
        "print(person['first_name'])\n",
        "print(person['last_name'])\n",
        "print(person['Age'])\n",
        "print(person['City'])"
      ]
    },
    {
      "cell_type": "code",
      "source": [
        "#Exercise 2\n",
        "#Print what programming words you’ve learned about in the previous chapters.\n",
        "\n",
        "glossary= {'variable': 'gives data to the computer for processing', 'loop': 'collection of items one', 'comment': 'its a note that wont be programmed', 'string': 'series of characters', 'dictionary': 'collection of key value'}\n",
        "\n",
        "word = 'variable'\n",
        "print(\"\\n\" + word.title() + \": \" + glossary[word])\n",
        "word = 'loop'\n",
        "print(\"\\n\" + word.title() + \":\" + glossary[word])\n",
        "word = 'comment'\n",
        "print(\"\\n\" + word.title() + \":\" + glossary[word])\n",
        "word = 'string'\n",
        "print(\"\\n\" + word.title() + \":\" + glossary[word])\n",
        "word= 'dictionary'\n",
        "print(\"\\n\" + word.title() + \":\" + glossary[word])\n"
      ],
      "metadata": {
        "colab": {
          "base_uri": "https://localhost:8080/"
        },
        "id": "kSA_Rz5hakeb",
        "outputId": "8feb965d-54a7-4790-b64e-a12275f14727"
      },
      "execution_count": 22,
      "outputs": [
        {
          "output_type": "stream",
          "name": "stdout",
          "text": [
            "\n",
            "Variable: gives data to the computer for processing\n",
            "\n",
            "Loop:collection of items one\n",
            "\n",
            "Comment:its a note that wont be programmed\n",
            "\n",
            "String:series of characters\n",
            "\n",
            "Dictionary:collection of key value\n"
          ]
        }
      ]
    },
    {
      "cell_type": "code",
      "source": [
        "#Exercise 3\n",
        "#Glossary 2\n",
        "\n",
        "glossary = {'string': 'A series of characters.','comment': 'A note in a program that the Python interpreter ignores.','list': 'A collection of items in a particular order.','loop': 'Work through a collection of items, one at a time.','dictionary': \"A collection of key-value pairs.\",'key': 'The first item in a key-value pair in a dictionary.','value': 'An item associated with a key in a dictionary.','conditional test': 'A comparison between two values.','float': 'A numerical value with a decimal component.','boolean expression': 'An expression that evaluates to True or False.',}\n",
        "\n",
        "for word, definition in glossary.items():\n",
        "    print(\"\\n\" + word.title() + \": \" + definition)"
      ],
      "metadata": {
        "colab": {
          "base_uri": "https://localhost:8080/"
        },
        "id": "goOp7WgddWS6",
        "outputId": "1025981b-4b26-4024-a19f-062744e70d45"
      },
      "execution_count": 24,
      "outputs": [
        {
          "output_type": "stream",
          "name": "stdout",
          "text": [
            "\n",
            "String: A series of characters.\n",
            "\n",
            "Comment: A note in a program that the Python interpreter ignores.\n",
            "\n",
            "List: A collection of items in a particular order.\n",
            "\n",
            "Loop: Work through a collection of items, one at a time.\n",
            "\n",
            "Dictionary: A collection of key-value pairs.\n",
            "\n",
            "Key: The first item in a key-value pair in a dictionary.\n",
            "\n",
            "Value: An item associated with a key in a dictionary.\n",
            "\n",
            "Conditional Test: A comparison between two values.\n",
            "\n",
            "Float: A numerical value with a decimal component.\n",
            "\n",
            "Boolean Expression: An expression that evaluates to True or False.\n"
          ]
        }
      ]
    },
    {
      "cell_type": "code",
      "source": [
        "#Exercise 4\n",
        "#Make a dictionary containing three major rivers and the country each river runs through\n",
        "\n",
        "rivers= {'Yellow River': 'China', 'Danube': 'Europe', 'Jordan': 'Jordan', 'Amazon': 'South America','Lower Tunguska': 'Russia'}\n",
        "\n",
        "for river, country in rivers.items():\n",
        " print(f\"The{river.title()} flows through {country.title()}.\")\n",
        "\n",
        "print(\"\\nThe following rivers are included in this data set:\")\n",
        "for river in rivers.keys():\n",
        "  print(f\"-{river.title()}\")\n",
        "\n",
        "print(\"\\nThe following countries are included in this data set:\")\n",
        "for country in rivers.values():\n",
        "  print(f\"-{country.title()}\")"
      ],
      "metadata": {
        "colab": {
          "base_uri": "https://localhost:8080/"
        },
        "id": "JTnQyy3Jfz7V",
        "outputId": "623a6945-f645-4c1c-ca93-98523362c8cd"
      },
      "execution_count": 26,
      "outputs": [
        {
          "output_type": "stream",
          "name": "stdout",
          "text": [
            "TheYellow River flows through China.\n",
            "TheDanube flows through Europe.\n",
            "TheJordan flows through Jordan.\n",
            "TheAmazon flows through South America.\n",
            "TheLower Tunguska flows through Russia.\n",
            "\n",
            "The following rivers are included in this data set:\n",
            "-Yellow River\n",
            "-Danube\n",
            "-Jordan\n",
            "-Amazon\n",
            "-Lower Tunguska\n",
            "\n",
            "The following countries are included in this data set:\n",
            "-China\n",
            "-Europe\n",
            "-Jordan\n",
            "-South America\n",
            "-Russia\n"
          ]
        }
      ]
    },
    {
      "cell_type": "code",
      "source": [
        "#Exercise 5\n",
        "#Make several dictionaries, where each dictionary represents a different pet\n",
        "\n",
        "pets= []\n",
        "\n",
        "pet = {'animal type': 'horse','name': 'greg','owner': 'julio','weight': 43,'eats': 'grass',}\n",
        "\n",
        "pets.append(pet)\n",
        "\n",
        "pet = {'animal type': 'cow','name': 'cowry','owner': 'anthony','weight': 40,'eats': 'corn',\n",
        "       }\n",
        "pets.append(pet)\n",
        "\n",
        "pet = {'animal type': 'dog','name': 'browny','owner': 'mark','weight': 22,'eats': 'slippers',}\n",
        "\n",
        "pets.append(pet)\n",
        "\n",
        "for pet in pets:\n",
        "    print(\"\\nHere's what I know about \" + pet['name'].title() + \":\")\n",
        "    for key, value in pet.items():\n",
        "        print(\"\\t\" + key + \": \" + str(value))"
      ],
      "metadata": {
        "colab": {
          "base_uri": "https://localhost:8080/"
        },
        "id": "hRuXlbwkgBgP",
        "outputId": "4f1c0635-5d34-418d-e77e-f6964fa0bac5"
      },
      "execution_count": 27,
      "outputs": [
        {
          "output_type": "stream",
          "name": "stdout",
          "text": [
            "\n",
            "Here's what I know about Greg:\n",
            "\tanimal type: horse\n",
            "\tname: greg\n",
            "\towner: julio\n",
            "\tweight: 43\n",
            "\teats: grass\n",
            "\n",
            "Here's what I know about Cowry:\n",
            "\tanimal type: cow\n",
            "\tname: cowry\n",
            "\towner: anthony\n",
            "\tweight: 40\n",
            "\teats: corn\n",
            "\n",
            "Here's what I know about Browny:\n",
            "\tanimal type: dog\n",
            "\tname: browny\n",
            "\towner: mark\n",
            "\tweight: 22\n",
            "\teats: slippers\n"
          ]
        }
      ]
    }
  ]
}